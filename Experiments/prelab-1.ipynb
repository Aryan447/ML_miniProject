{
 "cells": [
  {
   "cell_type": "code",
   "execution_count": 1,
   "id": "9d55fd4f",
   "metadata": {},
   "outputs": [
    {
     "name": "stdout",
     "output_type": "stream",
     "text": [
      "3.1622776601683795\n"
     ]
    }
   ],
   "source": [
    "import numpy as np\n",
    "print(np.sqrt(10))"
   ]
  },
  {
   "cell_type": "code",
   "execution_count": 2,
   "id": "41e95571",
   "metadata": {},
   "outputs": [
    {
     "name": "stdout",
     "output_type": "stream",
     "text": [
      "minimum 1\n"
     ]
    }
   ],
   "source": [
    "x = [3,5,7,1,2]\n",
    "print(\"minimum\",np.amin(x))"
   ]
  },
  {
   "cell_type": "code",
   "execution_count": 3,
   "id": "4bcd5443",
   "metadata": {},
   "outputs": [
    {
     "name": "stdout",
     "output_type": "stream",
     "text": [
      "maximum 7\n"
     ]
    }
   ],
   "source": [
    "print(\"maximum\",np.amax(x))"
   ]
  },
  {
   "cell_type": "markdown",
   "id": "edd69697",
   "metadata": {},
   "source": [
    "#rounding off"
   ]
  },
  {
   "cell_type": "code",
   "execution_count": 4,
   "id": "835d9839",
   "metadata": {},
   "outputs": [
    {
     "name": "stdout",
     "output_type": "stream",
     "text": [
      "35.0\n"
     ]
    }
   ],
   "source": [
    "print(np.ceil(34.86))"
   ]
  },
  {
   "cell_type": "code",
   "execution_count": 5,
   "id": "817987be",
   "metadata": {},
   "outputs": [
    {
     "name": "stdout",
     "output_type": "stream",
     "text": [
      "10.0\n"
     ]
    }
   ],
   "source": [
    "y =[5,10,15]\n",
    "print(np.ceil(np.sum(np.sqrt(y))))\n"
   ]
  },
  {
   "cell_type": "code",
   "execution_count": 6,
   "id": "c5369c8b",
   "metadata": {},
   "outputs": [
    {
     "name": "stdout",
     "output_type": "stream",
     "text": [
      "[ 5  8 13]\n"
     ]
    }
   ],
   "source": [
    "#declaring an array\n",
    "xyz = np.array([5,8,13])\n",
    "print(xyz)"
   ]
  },
  {
   "cell_type": "code",
   "execution_count": 7,
   "id": "076eed5d",
   "metadata": {},
   "outputs": [
    {
     "name": "stdout",
     "output_type": "stream",
     "text": [
      "<class 'numpy.ndarray'>\n"
     ]
    }
   ],
   "source": [
    "print(type(xyz))"
   ]
  },
  {
   "cell_type": "code",
   "execution_count": 8,
   "id": "d5a98e38",
   "metadata": {},
   "outputs": [
    {
     "data": {
      "text/plain": [
       "dtype('int32')"
      ]
     },
     "execution_count": 8,
     "metadata": {},
     "output_type": "execute_result"
    }
   ],
   "source": [
    "xyz.dtype"
   ]
  },
  {
   "cell_type": "code",
   "execution_count": 9,
   "id": "6f898c58",
   "metadata": {},
   "outputs": [],
   "source": [
    "b = np.asarray(xyz)"
   ]
  },
  {
   "cell_type": "code",
   "execution_count": 10,
   "id": "6a098f7b",
   "metadata": {},
   "outputs": [
    {
     "data": {
      "text/plain": [
       "array([ 5,  8, 13])"
      ]
     },
     "execution_count": 10,
     "metadata": {},
     "output_type": "execute_result"
    }
   ],
   "source": [
    "b"
   ]
  },
  {
   "cell_type": "code",
   "execution_count": 11,
   "id": "1dc26ea8",
   "metadata": {},
   "outputs": [
    {
     "name": "stdout",
     "output_type": "stream",
     "text": [
      "[ 5  8 13]\n"
     ]
    }
   ],
   "source": [
    "print(b)"
   ]
  },
  {
   "cell_type": "code",
   "execution_count": 12,
   "id": "7dc39dae",
   "metadata": {},
   "outputs": [
    {
     "name": "stdout",
     "output_type": "stream",
     "text": [
      "matrix\n",
      " [[1 2 3]\n",
      " [4 5 6]\n",
      " [7 8 9]]\n"
     ]
    }
   ],
   "source": [
    "#datatype\n",
    "my_mat=[[1,2,3],[4,5,6],[7,8,9]]\n",
    "mat = np.array(my_mat)\n",
    "print(\"matrix\\n\", mat)"
   ]
  },
  {
   "cell_type": "code",
   "execution_count": 13,
   "id": "3533f7be",
   "metadata": {},
   "outputs": [
    {
     "name": "stdout",
     "output_type": "stream",
     "text": [
      "<class 'numpy.ndarray'>\n"
     ]
    }
   ],
   "source": [
    "print(type(mat))"
   ]
  },
  {
   "cell_type": "code",
   "execution_count": 14,
   "id": "0da15955",
   "metadata": {},
   "outputs": [
    {
     "name": "stdout",
     "output_type": "stream",
     "text": [
      "2\n"
     ]
    }
   ],
   "source": [
    "print(mat.ndim)"
   ]
  },
  {
   "cell_type": "code",
   "execution_count": 15,
   "id": "4e1bde63",
   "metadata": {},
   "outputs": [],
   "source": [
    "#total no of elements in matrix\n"
   ]
  },
  {
   "cell_type": "code",
   "execution_count": 16,
   "id": "7d85c335",
   "metadata": {},
   "outputs": [
    {
     "name": "stdout",
     "output_type": "stream",
     "text": [
      "9\n"
     ]
    }
   ],
   "source": [
    "print(mat.size)"
   ]
  },
  {
   "cell_type": "code",
   "execution_count": 17,
   "id": "3cf9b835",
   "metadata": {},
   "outputs": [
    {
     "name": "stdout",
     "output_type": "stream",
     "text": [
      "(3, 3)\n"
     ]
    }
   ],
   "source": [
    "#number of element across each axis\n",
    "print(mat.shape)"
   ]
  },
  {
   "cell_type": "code",
   "execution_count": 18,
   "id": "affb13cf",
   "metadata": {},
   "outputs": [
    {
     "name": "stdout",
     "output_type": "stream",
     "text": [
      "int32\n"
     ]
    }
   ],
   "source": [
    "print(mat.dtype)"
   ]
  },
  {
   "cell_type": "markdown",
   "id": "f0653316",
   "metadata": {},
   "source": [
    "arrange and line space"
   ]
  },
  {
   "cell_type": "code",
   "execution_count": 19,
   "id": "c43349c9",
   "metadata": {},
   "outputs": [
    {
     "data": {
      "text/plain": [
       "array([ 2.,  6., 10.])"
      ]
     },
     "execution_count": 19,
     "metadata": {},
     "output_type": "execute_result"
    }
   ],
   "source": [
    "a = np.arange(2,10.5,4)#runs with numpy range(because of float)\n",
    "a"
   ]
  },
  {
   "cell_type": "code",
   "execution_count": 20,
   "id": "57b2f723",
   "metadata": {},
   "outputs": [
    {
     "name": "stdout",
     "output_type": "stream",
     "text": [
      "[]\n"
     ]
    }
   ],
   "source": [
    "print(list(range(2,1)))# don't run with python range"
   ]
  },
  {
   "cell_type": "code",
   "execution_count": 21,
   "id": "9c2680ed",
   "metadata": {},
   "outputs": [
    {
     "name": "stdout",
     "output_type": "stream",
     "text": [
      "[10.  6.  2.]\n"
     ]
    }
   ],
   "source": [
    "print(a[::-1])#revrse order"
   ]
  },
  {
   "cell_type": "code",
   "execution_count": 22,
   "id": "35c4e74e",
   "metadata": {},
   "outputs": [
    {
     "name": "stdout",
     "output_type": "stream",
     "text": [
      "(array([10., 16., 22., 28., 34.]), 6.0)\n"
     ]
    }
   ],
   "source": [
    "b =np.linspace(10,40,5, endpoint = False, retstep = True) # 10 or 40 ke beech mein 5\n",
    "print(b)"
   ]
  },
  {
   "cell_type": "markdown",
   "id": "8a17f862",
   "metadata": {},
   "source": [
    "genrate random function"
   ]
  },
  {
   "cell_type": "code",
   "execution_count": 23,
   "id": "7b1da7ba",
   "metadata": {},
   "outputs": [
    {
     "name": "stdout",
     "output_type": "stream",
     "text": [
      "[[0.89286015 0.33197981 0.82122912 0.04169663 0.10765668 0.59505206]\n",
      " [0.52981736 0.41880743 0.33540785 0.62251943 0.43814143 0.73588211]\n",
      " [0.51803641 0.5788586  0.6453551  0.99022427 0.8198582  0.41320093]\n",
      " [0.87626766 0.82375943 0.05447451 0.71863724 0.80217056 0.73640664]\n",
      " [0.70913175 0.54093685 0.12482417 0.9576473  0.4032563  0.21695116]\n",
      " [0.71727585 0.99420744 0.25561406 0.67130943 0.59900591 0.71733215]\n",
      " [0.93734953 0.35180977 0.2536341  0.40247251 0.74651072 0.72407057]\n",
      " [0.4061078  0.98937985 0.45049928 0.37380843 0.70962861 0.08245855]\n",
      " [0.39837292 0.77088097 0.76475098 0.28385938 0.18954219 0.47125096]\n",
      " [0.33480604 0.73473504 0.18910712 0.33110407 0.84422842 0.61502403]]\n"
     ]
    }
   ],
   "source": [
    "np.random.seed(6)\n",
    "print(np.random.rand(10,6))"
   ]
  },
  {
   "cell_type": "code",
   "execution_count": 24,
   "id": "366eddc7",
   "metadata": {},
   "outputs": [
    {
     "name": "stdout",
     "output_type": "stream",
     "text": [
      "[[-0.37550472  0.39636757 -0.47144628]\n",
      " [ 2.33660781  1.50278553 -0.59545972]\n",
      " [ 0.52834106  0.9398248   0.42628539]\n",
      " [-0.75815703 -0.16236698  0.72680996]\n",
      " [ 0.44408297 -0.85682264  0.44692842]\n",
      " [-1.01464799 -2.1323234   0.17386307]\n",
      " [ 0.95120126  0.44189739  1.46901739]\n",
      " [ 1.74951635  0.35353062 -0.64333729]\n",
      " [-0.04723705 -1.44903979 -0.03618977]\n",
      " [-0.09084699  0.17629034  1.09462041]]\n"
     ]
    }
   ],
   "source": [
    "print(np.random.randn(10,3))"
   ]
  },
  {
   "cell_type": "code",
   "execution_count": 25,
   "id": "3feb8533",
   "metadata": {},
   "outputs": [
    {
     "name": "stdout",
     "output_type": "stream",
     "text": [
      "[100  76 138  77  84  44 104 175  10  62 104 125 101  28 129  92  50 164\n",
      " 149  40   7 104  19  25 130  34 190 133 107 195 104  23 102  93 165  76\n",
      " 149 118 109  42  51  94 177 189 178 170  65 134 113 198 119  30  30 170\n",
      "  21  73 187 199  17  54  52  19 129  99 159  69  96 135   7  69  44  16\n",
      "  91  43 175 149  14 154  34 196 191  29 199  25  39 104  46  67  41  68\n",
      " 196 181 132 138  31 172 102  38  43  63]\n"
     ]
    }
   ],
   "source": [
    "print(np.random.randint(5,200,100))# seed will not work"
   ]
  },
  {
   "cell_type": "markdown",
   "id": "032e3c92",
   "metadata": {},
   "source": [
    "program to genrate the otp"
   ]
  },
  {
   "cell_type": "markdown",
   "id": "32331485",
   "metadata": {},
   "source": [
    "otp = (np.random.randint(1000, 10000))\n",
    "print(otp)\n",
    "\n",
    "flag = 0\n",
    "while (flag==0):\n",
    "    \n",
    "    otpin = int(input(\"Enter your otp\"))\n",
    "    if otpin == otp:\n",
    "        print(\"your otp is correct :\",otp)\n",
    "        flag =1\n",
    "        \n",
    "    else:\n",
    "        print(\"invalid otp\")"
   ]
  },
  {
   "cell_type": "markdown",
   "id": "af067fce",
   "metadata": {},
   "source": [
    "# numpy conditions"
   ]
  },
  {
   "cell_type": "code",
   "execution_count": 26,
   "id": "378022c9",
   "metadata": {},
   "outputs": [
    {
     "name": "stdout",
     "output_type": "stream",
     "text": [
      "[25 34 70 42 93 14 30  3 83 12 85 59 40 34 22 68 53 32 69 22  7  9 54 30\n",
      " 24 60 97  4 53 61]\n"
     ]
    }
   ],
   "source": [
    "from numpy.random import randint as ri\n",
    "aa = ri(1,99,30)\n",
    "print(aa)  \n"
   ]
  },
  {
   "cell_type": "code",
   "execution_count": 27,
   "id": "d3b69f57",
   "metadata": {},
   "outputs": [
    {
     "data": {
      "text/plain": [
       "array([[25, 34, 70, 42, 93],\n",
       "       [14, 30,  3, 83, 12],\n",
       "       [85, 59, 40, 34, 22],\n",
       "       [68, 53, 32, 69, 22],\n",
       "       [ 7,  9, 54, 30, 24],\n",
       "       [60, 97,  4, 53, 61]])"
      ]
     },
     "execution_count": 27,
     "metadata": {},
     "output_type": "execute_result"
    }
   ],
   "source": [
    "c = aa.reshape(6,5)\n",
    "c"
   ]
  },
  {
   "cell_type": "code",
   "execution_count": 28,
   "id": "5daf8665",
   "metadata": {},
   "outputs": [
    {
     "name": "stdout",
     "output_type": "stream",
     "text": [
      "3\n"
     ]
    }
   ],
   "source": [
    "print(c.min())"
   ]
  },
  {
   "cell_type": "code",
   "execution_count": 29,
   "id": "c9f9f69a",
   "metadata": {},
   "outputs": [
    {
     "name": "stdout",
     "output_type": "stream",
     "text": [
      "97\n"
     ]
    }
   ],
   "source": [
    "print(c.max())"
   ]
  },
  {
   "cell_type": "code",
   "execution_count": 30,
   "id": "2245ef7c",
   "metadata": {},
   "outputs": [
    {
     "name": "stdout",
     "output_type": "stream",
     "text": [
      "[[ 1  8 23 35 48]\n",
      " [25 30 41 47 79]\n",
      " [ 6 25 59 71 98]\n",
      " [ 2 12 12 43 45]\n",
      " [ 8  8 64 70 97]]\n"
     ]
    }
   ],
   "source": [
    "import numpy as np\n",
    "m = ri(1,100,25).reshape(5,5)\n",
    "print(np.sort(m))#default axis =1 sorted matrix along eachother"
   ]
  },
  {
   "cell_type": "code",
   "execution_count": 31,
   "id": "a907ce66",
   "metadata": {},
   "outputs": [
    {
     "name": "stdout",
     "output_type": "stream",
     "text": [
      "[35781 64712 16109 63114 28483 45796 61415 47785 32258 64570]\n"
     ]
    }
   ],
   "source": [
    "emp_salary = ri(8000,70000,10)\n",
    "print(emp_salary)"
   ]
  },
  {
   "cell_type": "code",
   "execution_count": 32,
   "id": "124a3ccf",
   "metadata": {},
   "outputs": [
    {
     "name": "stdout",
     "output_type": "stream",
     "text": [
      "[16109]\n"
     ]
    }
   ],
   "source": [
    "print(emp_salary[np.where(emp_salary<25000)])"
   ]
  },
  {
   "cell_type": "code",
   "execution_count": 33,
   "id": "a9f84f60",
   "metadata": {},
   "outputs": [
    {
     "name": "stdout",
     "output_type": "stream",
     "text": [
      "(array([2], dtype=int64),)\n"
     ]
    }
   ],
   "source": [
    "print(np.where(emp_salary<25000))"
   ]
  },
  {
   "cell_type": "code",
   "execution_count": 34,
   "id": "8c2cce8e",
   "metadata": {},
   "outputs": [
    {
     "data": {
      "text/plain": [
       "array([35781, 50000, 20000, 50000, 28483, 45796, 50000, 47785, 32258,\n",
       "       50000])"
      ]
     },
     "execution_count": 34,
     "metadata": {},
     "output_type": "execute_result"
    }
   ],
   "source": [
    "np.clip(emp_salary,a_min = 20000,a_max=50000)"
   ]
  }
 ],
 "metadata": {
  "kernelspec": {
   "display_name": "Python 3",
   "language": "python",
   "name": "python3"
  },
  "language_info": {
   "codemirror_mode": {
    "name": "ipython",
    "version": 3
   },
   "file_extension": ".py",
   "mimetype": "text/x-python",
   "name": "python",
   "nbconvert_exporter": "python",
   "pygments_lexer": "ipython3",
   "version": "3.11.0"
  },
  "vscode": {
   "interpreter": {
    "hash": "a860c9ede395f243b5a08937a05161f0f37cdec630d1b62649e007ef2598a87d"
   }
  }
 },
 "nbformat": 4,
 "nbformat_minor": 5
}
