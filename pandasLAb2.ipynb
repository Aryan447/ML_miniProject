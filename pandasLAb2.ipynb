{
 "cells": [
  {
   "attachments": {},
   "cell_type": "markdown",
   "metadata": {},
   "source": [
    "**Creating DataFrame with no. of list**"
   ]
  },
  {
   "cell_type": "code",
   "execution_count": 1,
   "metadata": {},
   "outputs": [
    {
     "name": "stdout",
     "output_type": "stream",
     "text": [
      "    A   B   C   D   E   F\n",
      "a  31  14  32  84  30  61\n",
      "b  58  51   7  41  43  62\n",
      "c  10   3  78  93  51  85\n",
      "d  11  26   1  86  76  35\n",
      "e  47  17  36  12  44  85\n"
     ]
    }
   ],
   "source": [
    "import numpy as np\n",
    "import pandas as pd\n",
    "#generate 30 random number with randint and reshape it and define the name of columns and index\n",
    "df=pd.DataFrame(np.random.randint(1,100,30).reshape(5,6),columns=list('ABCDEF'),index=list('abcde'))\n",
    "print(df)"
   ]
  },
  {
   "cell_type": "code",
   "execution_count": 2,
   "metadata": {},
   "outputs": [
    {
     "name": "stdout",
     "output_type": "stream",
     "text": [
      "    A   B   C   D   E   F\n",
      "a   0   1   2   3   4   5\n",
      "b   6   7   8   9  10  11\n",
      "c  12  13  14  15  16  17\n",
      "d  18  19  20  21  22  23\n",
      "e  24  25  26  27  28  29\n"
     ]
    }
   ],
   "source": [
    "import numpy as np\n",
    "import pandas as pd\n",
    "#generate 30 random number with arange function and reshape it and define the name of columns and index\n",
    "df=pd.DataFrame(np.arange(0,30).reshape(5,6),columns=list('ABCDEF'),index=list('abcde'))\n",
    "print(df)"
   ]
  },
  {
   "cell_type": "code",
   "execution_count": 4,
   "metadata": {},
   "outputs": [
    {
     "ename": "TypeError",
     "evalue": "arange() got an unexpected keyword argument 'endpoint'",
     "output_type": "error",
     "traceback": [
      "\u001b[1;31m---------------------------------------------------------------------------\u001b[0m",
      "\u001b[1;31mTypeError\u001b[0m                                 Traceback (most recent call last)",
      "Cell \u001b[1;32mIn[4], line 4\u001b[0m\n\u001b[0;32m      2\u001b[0m \u001b[39mimport\u001b[39;00m \u001b[39mpandas\u001b[39;00m \u001b[39mas\u001b[39;00m \u001b[39mpd\u001b[39;00m\n\u001b[0;32m      3\u001b[0m \u001b[39m#generate 30 random number with arange function codition endpoint true and reshape it and define the name of columns and index\u001b[39;00m\n\u001b[1;32m----> 4\u001b[0m df\u001b[39m=\u001b[39mpd\u001b[39m.\u001b[39mDataFrame(np\u001b[39m.\u001b[39;49marange(\u001b[39m1\u001b[39;49m,\u001b[39m30\u001b[39;49m,endpoint\u001b[39m=\u001b[39;49m\u001b[39mTrue\u001b[39;49;00m)\u001b[39m.\u001b[39mreshape(\u001b[39m5\u001b[39m,\u001b[39m6\u001b[39m),columns\u001b[39m=\u001b[39m\u001b[39mlist\u001b[39m(\u001b[39m'\u001b[39m\u001b[39mABCDEF\u001b[39m\u001b[39m'\u001b[39m),index\u001b[39m=\u001b[39m\u001b[39mlist\u001b[39m(\u001b[39m'\u001b[39m\u001b[39mabcde\u001b[39m\u001b[39m'\u001b[39m))\n\u001b[0;32m      5\u001b[0m \u001b[39mprint\u001b[39m(df)\n",
      "\u001b[1;31mTypeError\u001b[0m: arange() got an unexpected keyword argument 'endpoint'"
     ]
    }
   ],
   "source": [
    "import numpy as np\n",
    "import pandas as pd\n",
    "#generate 30 random number with arange function codition endpoint true and reshape it and define the name of columns and index\n",
    "df=pd.DataFrame(np.arange(1,30,endpoint=True).reshape(5,6),columns=list('ABCDEF'),index=list('abcde'))\n",
    "print(df)"
   ]
  },
  {
   "cell_type": "code",
   "execution_count": null,
   "metadata": {},
   "outputs": [
    {
     "name": "stdout",
     "output_type": "stream",
     "text": [
      "   A  B  C\n",
      "a  1  2  3\n",
      "b  2  4  6\n",
      "c  6  8  9\n"
     ]
    }
   ],
   "source": [
    "import numpy as np\n",
    "import pandas as pd\n",
    "df=pd.DataFrame(data=[[1,2,3],[2,4,6],[6,8,9]],columns=list('ABC'),index=list('abc'))\n",
    "print(df)"
   ]
  },
  {
   "cell_type": "code",
   "execution_count": null,
   "metadata": {},
   "outputs": [
    {
     "name": "stdout",
     "output_type": "stream",
     "text": [
      "    A   B   C   D   E   F\n",
      "a  55  68  14  25  12  69\n",
      "b  49  86  31  43  82  39\n",
      "c  69  47   8  77  92  24\n",
      "d   6  21  74  35  85  95\n",
      "e  12  81   7  48  48  58\n",
      "head of the data \n",
      "     A   B   C   D   E   F\n",
      "a  55  68  14  25  12  69\n",
      "b  49  86  31  43  82  39\n",
      "tail of the data \n",
      "     A   B   C   D   E   F\n",
      "d   6  21  74  35  85  95\n",
      "e  12  81   7  48  48  58\n"
     ]
    }
   ],
   "source": [
    "import numpy as np\n",
    "import pandas as pd\n",
    "#generate 30 random number\n",
    "df=pd.DataFrame(np.random.randint(1,100,30).reshape(5,6),columns=list('ABCDEF'),index=list('abcde'))\n",
    "print(df)\n",
    "#default of head and tail is 5\n",
    "print(\"head of the data \\n\",df.head(2))\n",
    "print(\"tail of the data \\n\",df.tail(2))"
   ]
  },
  {
   "cell_type": "code",
   "execution_count": null,
   "metadata": {},
   "outputs": [
    {
     "name": "stdout",
     "output_type": "stream",
     "text": [
      "info of the data\n",
      "<class 'pandas.core.frame.DataFrame'>\n",
      "Index: 5 entries, a to e\n",
      "Data columns (total 6 columns):\n",
      " #   Column  Non-Null Count  Dtype\n",
      "---  ------  --------------  -----\n",
      " 0   A       5 non-null      int32\n",
      " 1   B       5 non-null      int32\n",
      " 2   C       5 non-null      int32\n",
      " 3   D       5 non-null      int32\n",
      " 4   E       5 non-null      int32\n",
      " 5   F       5 non-null      int32\n",
      "dtypes: int32(6)\n",
      "memory usage: 160.0+ bytes\n",
      "None\n"
     ]
    }
   ],
   "source": [
    "import numpy as np\n",
    "import pandas as pd\n",
    "#generate 30 random number\n",
    "df=pd.DataFrame(np.random.randint(1,100,30).reshape(5,6),columns=list('ABCDEF'),index=list('abcde'))\n",
    "print(\"info of the data\")\n",
    "print(df.info())"
   ]
  },
  {
   "cell_type": "code",
   "execution_count": null,
   "metadata": {},
   "outputs": [],
   "source": [
    "import numpy as np\n",
    "import pandas as pd\n",
    "#generate 30 random number\n",
    "df=pd.DataFrame(np.random.randint(1,100,30).reshape(5,6),columns=list('ABCDEF'),index=list('abcde'))\n",
    "print(\"describe the data\")\n",
    "print(df.describe())"
   ]
  },
  {
   "attachments": {},
   "cell_type": "markdown",
   "metadata": {},
   "source": [
    "**Indexing**  \n",
    "Indexing a pandas dataframe means selecting particular subsets of data (such as rows, columns, individual cells) from that dataframe.  \n",
    "1)column name  \n",
    "2)row index(loc)  \n",
    "3)row indexing and column index no.(iloc)   \n"
   ]
  },
  {
   "cell_type": "code",
   "execution_count": null,
   "metadata": {},
   "outputs": [
    {
     "name": "stdout",
     "output_type": "stream",
     "text": [
      "a    83\n",
      "b    47\n",
      "c    25\n",
      "d    64\n",
      "e    37\n",
      "Name: A, dtype: int32\n",
      "<class 'pandas.core.series.Series'>\n"
     ]
    }
   ],
   "source": [
    "import numpy as np\n",
    "import pandas as pd\n",
    "#generate 30 random number\n",
    "df=pd.DataFrame(np.random.randint(1,100,30).reshape(5,6),columns=list('ABCDEF'),index=list('abcde'))\n",
    "print(df[\"A\"])\n",
    "print(type(df[\"A\"]))"
   ]
  },
  {
   "cell_type": "code",
   "execution_count": null,
   "metadata": {},
   "outputs": [
    {
     "name": "stdout",
     "output_type": "stream",
     "text": [
      "    A   B\n",
      "a  24  17\n",
      "b  63  86\n",
      "c  28  59\n",
      "d  30  29\n",
      "e  58  27\n",
      "<class 'pandas.core.frame.DataFrame'>\n"
     ]
    }
   ],
   "source": [
    "import numpy as np\n",
    "import pandas as pd\n",
    "#generate 30 random number\n",
    "df=pd.DataFrame(np.random.randint(1,100,30).reshape(5,6),columns=list('ABCDEF'),index=list('abcde'))\n",
    "print(df[[\"A\",\"B\"]])\n",
    "print(type(df[[\"A\",\"B\"]]))"
   ]
  },
  {
   "cell_type": "code",
   "execution_count": null,
   "metadata": {},
   "outputs": [
    {
     "name": "stdout",
     "output_type": "stream",
     "text": [
      "A    64\n",
      "B     5\n",
      "C    13\n",
      "D    89\n",
      "E    27\n",
      "F    40\n",
      "Name: a, dtype: int32\n",
      "<class 'pandas.core.series.Series'>\n"
     ]
    }
   ],
   "source": [
    "import numpy as np\n",
    "import pandas as pd\n",
    "#generate 30 random number\n",
    "df=pd.DataFrame(np.random.randint(1,100,30).reshape(5,6),columns=list('ABCDEF'),index=list('abcde'))\n",
    "#extracting row\n",
    "print(df.loc[\"a\"])\n",
    "print(type(df.loc[\"a\"]))"
   ]
  },
  {
   "cell_type": "code",
   "execution_count": null,
   "metadata": {},
   "outputs": [
    {
     "name": "stdout",
     "output_type": "stream",
     "text": [
      "    A   B   C   D   E   F\n",
      "a   4  31  76  87  21  44\n",
      "b  94  34  94  95  61  77\n",
      "<class 'pandas.core.frame.DataFrame'>\n"
     ]
    }
   ],
   "source": [
    "import numpy as np\n",
    "import pandas as pd\n",
    "#generate 30 random number\n",
    "df=pd.DataFrame(np.random.randint(1,100,30).reshape(5,6),columns=list('ABCDEF'),index=list('abcde'))\n",
    "#extracting row\n",
    "print(df.loc[[\"a\",\"b\"]])\n",
    "print(type(df.loc[[\"a\",\"b\"]]))"
   ]
  },
  {
   "cell_type": "code",
   "execution_count": null,
   "metadata": {},
   "outputs": [
    {
     "name": "stdout",
     "output_type": "stream",
     "text": [
      "    C   D\n",
      "a  27  70\n",
      "b  13  19\n"
     ]
    }
   ],
   "source": [
    "import numpy as np\n",
    "import pandas as pd\n",
    "#generate 30 random number\n",
    "df=pd.DataFrame(np.random.randint(1,100,30).reshape(5,6),columns=list('ABCDEF'),index=list('abcde'))\n",
    "#extracting specific row and column\n",
    "print(df.iloc[0:2,2:4])"
   ]
  },
  {
   "cell_type": "code",
   "execution_count": null,
   "metadata": {},
   "outputs": [
    {
     "name": "stdout",
     "output_type": "stream",
     "text": [
      "{'A': [1, 2, nan], 'B': [5, nan, nan], 'C': [1, 2, 3], 'D': [20, 25, 35]}\n",
      "       A      B      C      D\n",
      "0  False  False  False  False\n",
      "1  False   True  False  False\n",
      "2   True   True  False  False\n"
     ]
    }
   ],
   "source": [
    "#how to create NaN (not a number)\n",
    "d2 = {'A':[1,2,np.nan], 'B':[5,np.nan,np.nan], 'C':[1,2,3],'D':[20,25,35]}\n",
    "print(d2)\n",
    "df2 = pd.DataFrame(d2)\n",
    "print(df2.isnull())"
   ]
  },
  {
   "cell_type": "code",
   "execution_count": null,
   "metadata": {},
   "outputs": [
    {
     "name": "stdout",
     "output_type": "stream",
     "text": [
      "[50  2 21 94 99]\n",
      "50    1\n",
      "2     1\n",
      "21    1\n",
      "94    1\n",
      "99    1\n",
      "Name: A, dtype: int64\n"
     ]
    }
   ],
   "source": [
    "import numpy as np\n",
    "import pandas as pd\n",
    "#generate 30 random number\n",
    "df=pd.DataFrame(np.random.randint(1,100,30).reshape(5,6),columns=list('ABCDEF'),index=list('abcde'))\n",
    "print(df[\"A\"].unique())\n",
    "print(df[\"A\"].value_counts())"
   ]
  },
  {
   "attachments": {},
   "cell_type": "markdown",
   "metadata": {},
   "source": [
    "**counting DataFrame**"
   ]
  },
  {
   "cell_type": "code",
   "execution_count": null,
   "metadata": {},
   "outputs": [
    {
     "name": "stdout",
     "output_type": "stream",
     "text": [
      "          AIML  CSE  AIDS  AIR\n",
      "python      51   26    30   83\n",
      "java        27   76    18   14\n",
      "c           77   20    32   17\n",
      "c++         90   43    38   61\n",
      "math        72   24    27   42\n",
      "secutity    18   14    57   73\n",
      "cloud       84   46    71    1\n",
      "MLO          5   85    47   23\n"
     ]
    }
   ],
   "source": [
    "import numpy as np\n",
    "import pandas as pd\n",
    "#generate 30 random number\n",
    "df1=pd.DataFrame(np.random.randint(1,100,16).reshape(4,4),columns=[\"AIML\",\"CSE\",\"AIDS\",\"AIR\"],index=[\"python\",\"java\",\"c\",\"c++\"])\n",
    "df2=pd.DataFrame(np.random.randint(1,100,16).reshape(4,4),columns=[\"AIML\",\"CSE\",\"AIDS\",\"AIR\"],index=[\"math\",\"secutity\",\"cloud\",\"MLO\"])\n",
    "print(pd.concat([df1,df2]))\n"
   ]
  },
  {
   "cell_type": "code",
   "execution_count": null,
   "metadata": {},
   "outputs": [
    {
     "name": "stdout",
     "output_type": "stream",
     "text": [
      "          AIML   CSE  AIDS   AIR  AIML   CSE  AIDS   AIR\n",
      "python    91.0  29.0  19.0  76.0   NaN   NaN   NaN   NaN\n",
      "java      21.0  11.0  98.0  96.0   NaN   NaN   NaN   NaN\n",
      "c         74.0  16.0  12.0  37.0   NaN   NaN   NaN   NaN\n",
      "c++       64.0  59.0  70.0  49.0   NaN   NaN   NaN   NaN\n",
      "math       NaN   NaN   NaN   NaN  15.0  48.0   8.0  20.0\n",
      "secutity   NaN   NaN   NaN   NaN  66.0  98.0  52.0  58.0\n",
      "cloud      NaN   NaN   NaN   NaN  44.0  90.0   1.0  48.0\n",
      "MLO        NaN   NaN   NaN   NaN  30.0  20.0  39.0  19.0\n"
     ]
    }
   ],
   "source": [
    "import numpy as np\n",
    "import pandas as pd\n",
    "#generate 30 random number\n",
    "df1=pd.DataFrame(np.random.randint(1,100,16).reshape(4,4),columns=[\"AIML\",\"CSE\",\"AIDS\",\"AIR\"],index=[\"python\",\"java\",\"c\",\"c++\"])\n",
    "df2=pd.DataFrame(np.random.randint(1,100,16).reshape(4,4),columns=[\"AIML\",\"CSE\",\"AIDS\",\"AIR\"],index=[\"math\",\"secutity\",\"cloud\",\"MLO\"])\n",
    "print(pd.concat([df1,df2],axis=1))"
   ]
  },
  {
   "cell_type": "code",
   "execution_count": null,
   "metadata": {},
   "outputs": [
    {
     "name": "stdout",
     "output_type": "stream",
     "text": [
      "    name  age\n",
      "0  Sally   77\n",
      "1  Peter   44\n",
      "2  Micky   22\n"
     ]
    }
   ],
   "source": [
    "import pandas as pd\n",
    "\n",
    "data1 = {\n",
    "  \"name\": [\"Sally\", \"Mary\", \"John\"],\n",
    "  \"age\": [50, 40, 30]\n",
    "}\n",
    "\n",
    "data2 = {\n",
    "  \"name\": [\"Sally\", \"Peter\", \"Micky\"],\n",
    "  \"age\": [77, 44, 22]\n",
    "}\n",
    "\n",
    "df1 = pd.DataFrame(data1)\n",
    "df2 = pd.DataFrame(data2)\n",
    "\n",
    "newdf = df1.merge(df2, how='right')\n",
    "print(newdf)"
   ]
  },
  {
   "cell_type": "code",
   "execution_count": null,
   "metadata": {},
   "outputs": [
    {
     "name": "stdout",
     "output_type": "stream",
     "text": [
      "   id    Name subject_id\n",
      "0   1    John       sub1\n",
      "1   2  Parker       sub2\n",
      "2   3   Smith       sub4\n",
      "3   4  Parker       sub6\n",
      "   id     Name subject_id\n",
      "0   1  William       sub2\n",
      "1   2   Albert       sub4\n",
      "2   3     Tony       sub3\n",
      "3   4    Allen       sub6\n",
      "   id  Name_x subject_id_x   Name_y subject_id_y\n",
      "0   1    John         sub1  William         sub2\n",
      "1   2  Parker         sub2   Albert         sub4\n",
      "2   3   Smith         sub4     Tony         sub3\n",
      "3   4  Parker         sub6    Allen         sub6\n"
     ]
    }
   ],
   "source": [
    "# import the pandas library  \n",
    "import pandas as pd  \n",
    "left = pd.DataFrame({  \n",
    "   'id':[1,2,3,4],  \n",
    "   'Name': ['John', 'Parker', 'Smith', 'Parker'],  \n",
    "   'subject_id':['sub1','sub2','sub4','sub6']})  \n",
    "right = pd.DataFrame({  \n",
    "    'id':[1,2,3,4],  \n",
    "   'Name': ['William', 'Albert', 'Tony', 'Allen'],  \n",
    "   'subject_id':['sub2','sub4','sub3','sub6']})  \n",
    "print (left)  \n",
    "print (right)  \n",
    "newdf = pd.merge(left,right,on='id')\n",
    "# newdf1 = pd.merge(df1, df2, how='inner', on='id')\n",
    "print(newdf)"
   ]
  }
 ],
 "metadata": {
  "kernelspec": {
   "display_name": "Python 3",
   "language": "python",
   "name": "python3"
  },
  "language_info": {
   "codemirror_mode": {
    "name": "ipython",
    "version": 3
   },
   "file_extension": ".py",
   "mimetype": "text/x-python",
   "name": "python",
   "nbconvert_exporter": "python",
   "pygments_lexer": "ipython3",
   "version": "3.11.2"
  },
  "orig_nbformat": 4,
  "vscode": {
   "interpreter": {
    "hash": "c261aea317cc0286b3b3261fbba9abdec21eaa57589985bb7a274bf54d6cc0a7"
   }
  }
 },
 "nbformat": 4,
 "nbformat_minor": 2
}
